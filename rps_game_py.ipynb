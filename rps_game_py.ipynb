{
  "nbformat": 4,
  "nbformat_minor": 0,
  "metadata": {
    "colab": {
      "name": "rps_game.py",
      "version": "0.3.2",
      "provenance": [],
      "collapsed_sections": [],
      "include_colab_link": true
    },
    "kernelspec": {
      "name": "python3",
      "display_name": "Python 3"
    }
  },
  "cells": [
    {
      "cell_type": "markdown",
      "metadata": {
        "id": "view-in-github",
        "colab_type": "text"
      },
      "source": [
        "<a href=\"https://colab.research.google.com/github/ganesh-goyal/Basic_Python_CV2_Project/blob/master/rps_game_py.ipynb\" target=\"_parent\"><img src=\"https://colab.research.google.com/assets/colab-badge.svg\" alt=\"Open In Colab\"/></a>"
      ]
    },
    {
      "cell_type": "code",
      "metadata": {
        "id": "kmyHO1jw3v1K",
        "colab_type": "code",
        "colab": {}
      },
      "source": [
        "from random import randint,choice\n",
        "from getpass import getpass\n",
        "from time import sleep"
      ],
      "execution_count": 0,
      "outputs": []
    },
    {
      "cell_type": "code",
      "metadata": {
        "id": "3Tx1Fnfs3yNF",
        "colab_type": "code",
        "colab": {
          "base_uri": "https://localhost:8080/",
          "height": 102
        },
        "outputId": "070d0b95-a873-4398-cc01-ae382b074e68"
      },
      "source": [
        "print(\"lets play 'rock' 'paper' 'scissor' game -->\")\n",
        "player = input(\"enter the choice (rock,paper,scissor):\")\n",
        "print(player,'vs', end=' ')\n",
        "\n",
        "cmp = randint(1,4)\n",
        "print(cmp)\n",
        "\n",
        "if cmp == 1:\n",
        "  computer = 'rock'\n",
        "elif cmp == 2:\n",
        "  computer = 'paper'\n",
        "else:\n",
        "  computer = 'scissor'\n",
        "  \n",
        "print(computer)\n",
        "\n",
        "if computer == player:\n",
        "  print(\"match tie..! this match\")\n",
        "elif computer == 'rock' and player == 'paper':\n",
        "  print(\"computer won..!\")\n",
        "elif player == 'rock'and computer == 'paper':\n",
        "  print(\"player won..!\")\n",
        "elif player =='paper' and computer == 'scissor':\n",
        "  print(\"computer won ....!!..yeah.. \")\n",
        "elif player == 'scissor' and computer =='paper':\n",
        "  print(\"player won this math...!1\")\n",
        "  "
      ],
      "execution_count": 14,
      "outputs": [
        {
          "output_type": "stream",
          "text": [
            "lets play 'rock' 'paper' 'scissor' game -->\n",
            "enter the choice (rock,paper,scissor):paper\n",
            "paper vs 4\n",
            "scissor\n",
            "computer won ....!!..yeah.. \n"
          ],
          "name": "stdout"
        }
      ]
    },
    {
      "cell_type": "markdown",
      "metadata": {
        "id": "0lDnpWFy9kDx",
        "colab_type": "text"
      },
      "source": [
        ""
      ]
    },
    {
      "cell_type": "code",
      "metadata": {
        "id": "QZME2Qno35qe",
        "colab_type": "code",
        "colab": {}
      },
      "source": [
        ""
      ],
      "execution_count": 0,
      "outputs": []
    }
  ]
}